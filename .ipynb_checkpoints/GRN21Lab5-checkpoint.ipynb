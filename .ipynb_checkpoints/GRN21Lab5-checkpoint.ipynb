{
 "cells": [
  {
   "cell_type": "code",
   "execution_count": 9,
   "metadata": {},
   "outputs": [
    {
     "name": "stdin",
     "output_type": "stream",
     "text": [
      "What is your name? giovanna\n",
      "Enter an integer 9\n",
      "Enter another integer 9\n"
     ]
    },
    {
     "name": "stdout",
     "output_type": "stream",
     "text": [
      "Hello giovanna your sum is 18\n"
     ]
    }
   ],
   "source": [
    "name = input(\"What is your name?\")\n",
    "x = int(input(\"Enter an integer\"))\n",
    "y = int(input (\"Enter another integer\"))\n",
    "\n",
    "sum = x + y\n",
    "\n",
    "print(\"Hello\" , name , \"your sum is\" , sum)"
   ]
  },
  {
   "cell_type": "code",
   "execution_count": null,
   "metadata": {},
   "outputs": [],
   "source": []
  }
 ],
 "metadata": {
  "kernelspec": {
   "display_name": "Python 3",
   "language": "python",
   "name": "python3"
  },
  "language_info": {
   "codemirror_mode": {
    "name": "ipython",
    "version": 3
   },
   "file_extension": ".py",
   "mimetype": "text/x-python",
   "name": "python",
   "nbconvert_exporter": "python",
   "pygments_lexer": "ipython3",
   "version": "3.8.3"
  }
 },
 "nbformat": 4,
 "nbformat_minor": 4
}
