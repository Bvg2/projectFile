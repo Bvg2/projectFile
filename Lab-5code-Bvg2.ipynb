{
 "cells": [
  {
   "cell_type": "markdown",
   "metadata": {},
   "source": [
    "#### file notebook"
   ]
  },
  {
   "cell_type": "code",
   "execution_count": 6,
   "metadata": {},
   "outputs": [
    {
     "name": "stdin",
     "output_type": "stream",
     "text": [
      "what is your name: ben\n",
      "what is your social security number (please dont include spaces) 412\n"
     ]
    },
    {
     "name": "stdout",
     "output_type": "stream",
     "text": [
      "your social secirity number plus one is: 413\n",
      "thank you Ben\n"
     ]
    }
   ],
   "source": [
    "name = input(\"what is your name:\")\n",
    "name = name.title()\n",
    "num = int(input(\"what is your social security number (please dont include spaces)\"))\n",
    "num+=1\n",
    "print(\"your social secirity number plus one is:\", num)\n",
    "print(\"thank you\", name)"
   ]
  },
  {
   "cell_type": "code",
   "execution_count": null,
   "metadata": {},
   "outputs": [],
   "source": []
  }
 ],
 "metadata": {
  "kernelspec": {
   "display_name": "Python 3",
   "language": "python",
   "name": "python3"
  },
  "language_info": {
   "codemirror_mode": {
    "name": "ipython",
    "version": 3
   },
   "file_extension": ".py",
   "mimetype": "text/x-python",
   "name": "python",
   "nbconvert_exporter": "python",
   "pygments_lexer": "ipython3",
   "version": "3.8.3"
  }
 },
 "nbformat": 4,
 "nbformat_minor": 4
}
